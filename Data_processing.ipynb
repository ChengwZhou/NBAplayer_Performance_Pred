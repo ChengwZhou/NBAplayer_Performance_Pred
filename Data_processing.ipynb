{
 "cells": [
  {
   "cell_type": "code",
   "execution_count": 1,
   "id": "d7451f34",
   "metadata": {
    "pycharm": {
     "name": "#%%\n"
    }
   },
   "outputs": [],
   "source": [
    "import numpy as np\n",
    "import pandas as pd\n",
    "import seaborn as sns\n",
    "from matplotlib import pyplot as plt\n",
    "pd.pandas.set_option('display.max_columns', None)"
   ]
  },
  {
   "cell_type": "code",
   "execution_count": 98,
   "id": "afb9b896",
   "metadata": {
    "scrolled": true,
    "pycharm": {
     "name": "#%%\n"
    }
   },
   "outputs": [
    {
     "data": {
      "text/html": [
       "<div>\n",
       "<style scoped>\n",
       "    .dataframe tbody tr th:only-of-type {\n",
       "        vertical-align: middle;\n",
       "    }\n",
       "\n",
       "    .dataframe tbody tr th {\n",
       "        vertical-align: top;\n",
       "    }\n",
       "\n",
       "    .dataframe thead th {\n",
       "        text-align: right;\n",
       "    }\n",
       "</style>\n",
       "<table border=\"1\" class=\"dataframe\">\n",
       "  <thead>\n",
       "    <tr style=\"text-align: right;\">\n",
       "      <th></th>\n",
       "      <th>player_name</th>\n",
       "      <th>team_abbreviation</th>\n",
       "      <th>age</th>\n",
       "      <th>player_height</th>\n",
       "      <th>player_weight</th>\n",
       "      <th>college</th>\n",
       "      <th>country</th>\n",
       "      <th>draft_year</th>\n",
       "      <th>draft_round</th>\n",
       "      <th>draft_number</th>\n",
       "      <th>gp</th>\n",
       "      <th>pts</th>\n",
       "      <th>reb</th>\n",
       "      <th>ast</th>\n",
       "      <th>net_rating</th>\n",
       "      <th>oreb_pct</th>\n",
       "      <th>dreb_pct</th>\n",
       "      <th>usg_pct</th>\n",
       "      <th>ts_pct</th>\n",
       "      <th>ast_pct</th>\n",
       "      <th>season</th>\n",
       "    </tr>\n",
       "  </thead>\n",
       "  <tbody>\n",
       "    <tr>\n",
       "      <th>12300</th>\n",
       "      <td>Markieff Morris</td>\n",
       "      <td>MIA</td>\n",
       "      <td>32.0</td>\n",
       "      <td>205.74</td>\n",
       "      <td>111.130040</td>\n",
       "      <td>Kansas</td>\n",
       "      <td>USA</td>\n",
       "      <td>2011</td>\n",
       "      <td>1</td>\n",
       "      <td>13</td>\n",
       "      <td>17</td>\n",
       "      <td>7.6</td>\n",
       "      <td>2.6</td>\n",
       "      <td>1.4</td>\n",
       "      <td>4.5</td>\n",
       "      <td>0.059</td>\n",
       "      <td>0.089</td>\n",
       "      <td>0.197</td>\n",
       "      <td>0.547</td>\n",
       "      <td>0.116</td>\n",
       "      <td>2021-22</td>\n",
       "    </tr>\n",
       "    <tr>\n",
       "      <th>12301</th>\n",
       "      <td>Markelle Fultz</td>\n",
       "      <td>ORL</td>\n",
       "      <td>24.0</td>\n",
       "      <td>193.04</td>\n",
       "      <td>94.800728</td>\n",
       "      <td>Washington</td>\n",
       "      <td>USA</td>\n",
       "      <td>2017</td>\n",
       "      <td>1</td>\n",
       "      <td>1</td>\n",
       "      <td>18</td>\n",
       "      <td>10.8</td>\n",
       "      <td>2.7</td>\n",
       "      <td>5.5</td>\n",
       "      <td>-5.3</td>\n",
       "      <td>0.010</td>\n",
       "      <td>0.116</td>\n",
       "      <td>0.265</td>\n",
       "      <td>0.517</td>\n",
       "      <td>0.448</td>\n",
       "      <td>2021-22</td>\n",
       "    </tr>\n",
       "    <tr>\n",
       "      <th>12302</th>\n",
       "      <td>Marcus Smart</td>\n",
       "      <td>BOS</td>\n",
       "      <td>28.0</td>\n",
       "      <td>193.04</td>\n",
       "      <td>99.790240</td>\n",
       "      <td>Oklahoma State</td>\n",
       "      <td>USA</td>\n",
       "      <td>2014</td>\n",
       "      <td>1</td>\n",
       "      <td>6</td>\n",
       "      <td>71</td>\n",
       "      <td>12.1</td>\n",
       "      <td>3.8</td>\n",
       "      <td>5.9</td>\n",
       "      <td>9.3</td>\n",
       "      <td>0.018</td>\n",
       "      <td>0.093</td>\n",
       "      <td>0.179</td>\n",
       "      <td>0.540</td>\n",
       "      <td>0.245</td>\n",
       "      <td>2021-22</td>\n",
       "    </tr>\n",
       "    <tr>\n",
       "      <th>12303</th>\n",
       "      <td>Marcus Garrett</td>\n",
       "      <td>MIA</td>\n",
       "      <td>23.0</td>\n",
       "      <td>195.58</td>\n",
       "      <td>92.986360</td>\n",
       "      <td>Kansas</td>\n",
       "      <td>USA</td>\n",
       "      <td>Undrafted</td>\n",
       "      <td>Undrafted</td>\n",
       "      <td>Undrafted</td>\n",
       "      <td>12</td>\n",
       "      <td>1.1</td>\n",
       "      <td>1.9</td>\n",
       "      <td>0.6</td>\n",
       "      <td>5.8</td>\n",
       "      <td>0.072</td>\n",
       "      <td>0.108</td>\n",
       "      <td>0.086</td>\n",
       "      <td>0.280</td>\n",
       "      <td>0.069</td>\n",
       "      <td>2021-22</td>\n",
       "    </tr>\n",
       "    <tr>\n",
       "      <th>12304</th>\n",
       "      <td>Micah Potter</td>\n",
       "      <td>DET</td>\n",
       "      <td>24.0</td>\n",
       "      <td>208.28</td>\n",
       "      <td>112.490816</td>\n",
       "      <td>Wisconsin</td>\n",
       "      <td>USA</td>\n",
       "      <td>Undrafted</td>\n",
       "      <td>Undrafted</td>\n",
       "      <td>Undrafted</td>\n",
       "      <td>3</td>\n",
       "      <td>4.0</td>\n",
       "      <td>3.0</td>\n",
       "      <td>0.0</td>\n",
       "      <td>-56.4</td>\n",
       "      <td>0.095</td>\n",
       "      <td>0.125</td>\n",
       "      <td>0.148</td>\n",
       "      <td>0.505</td>\n",
       "      <td>0.000</td>\n",
       "      <td>2021-22</td>\n",
       "    </tr>\n",
       "  </tbody>\n",
       "</table>\n",
       "</div>"
      ],
      "text/plain": [
       "           player_name team_abbreviation   age  player_height  player_weight  \\\n",
       "12300  Markieff Morris               MIA  32.0         205.74     111.130040   \n",
       "12301   Markelle Fultz               ORL  24.0         193.04      94.800728   \n",
       "12302     Marcus Smart               BOS  28.0         193.04      99.790240   \n",
       "12303   Marcus Garrett               MIA  23.0         195.58      92.986360   \n",
       "12304     Micah Potter               DET  24.0         208.28     112.490816   \n",
       "\n",
       "              college country draft_year draft_round draft_number  gp   pts  \\\n",
       "12300          Kansas     USA       2011           1           13  17   7.6   \n",
       "12301      Washington     USA       2017           1            1  18  10.8   \n",
       "12302  Oklahoma State     USA       2014           1            6  71  12.1   \n",
       "12303          Kansas     USA  Undrafted   Undrafted    Undrafted  12   1.1   \n",
       "12304       Wisconsin     USA  Undrafted   Undrafted    Undrafted   3   4.0   \n",
       "\n",
       "       reb  ast  net_rating  oreb_pct  dreb_pct  usg_pct  ts_pct  ast_pct  \\\n",
       "12300  2.6  1.4         4.5     0.059     0.089    0.197   0.547    0.116   \n",
       "12301  2.7  5.5        -5.3     0.010     0.116    0.265   0.517    0.448   \n",
       "12302  3.8  5.9         9.3     0.018     0.093    0.179   0.540    0.245   \n",
       "12303  1.9  0.6         5.8     0.072     0.108    0.086   0.280    0.069   \n",
       "12304  3.0  0.0       -56.4     0.095     0.125    0.148   0.505    0.000   \n",
       "\n",
       "        season  \n",
       "12300  2021-22  \n",
       "12301  2021-22  \n",
       "12302  2021-22  \n",
       "12303  2021-22  \n",
       "12304  2021-22  "
      ]
     },
     "execution_count": 98,
     "metadata": {},
     "output_type": "execute_result"
    }
   ],
   "source": [
    "df = pd.read_csv('./raw_data/all_seasons.csv')\n",
    "df.drop(columns=df.columns[0], inplace=True)\n",
    "df.head()\n",
    "df.tail()"
   ]
  },
  {
   "cell_type": "code",
   "execution_count": 327,
   "id": "fb61e5cd",
   "metadata": {
    "scrolled": false,
    "pycharm": {
     "name": "#%%\n"
    }
   },
   "outputs": [
    {
     "name": "stdout",
     "output_type": "stream",
     "text": [
      "        ID   age  gp   pts  reb  ast  net_rating  oreb_pct  dreb_pct  usg_pct  \\\n",
      "0        5  38.0  52   8.2  2.7  1.0         4.1     0.034     0.126    0.220   \n",
      "1        5  39.0  75   8.4  2.0  1.2        -3.9     0.041     0.084    0.202   \n",
      "2        5  40.0   3   4.0  0.7  0.3       -20.8     0.000     0.154    0.292   \n",
      "3        8  29.0  71   5.7  1.6  1.3        -0.3     0.036     0.076    0.172   \n",
      "4        8  30.0  59   9.3  2.4  2.0        -1.9     0.027     0.087    0.186   \n",
      "...    ...   ...  ..   ...  ...  ...         ...       ...       ...      ...   \n",
      "8680  4061  22.0  58  15.3  2.6  1.4        -1.8     0.014     0.069    0.204   \n",
      "8681  4061  23.0  70  18.3  2.7  2.0         3.3     0.010     0.070    0.212   \n",
      "8682  4062  27.0  66   5.9  1.9  0.7        -1.1     0.015     0.117    0.163   \n",
      "8683  4062  28.0  72   6.9  2.4  0.8        14.6     0.024     0.117    0.169   \n",
      "8684  4062  29.0  76   9.2  2.7  1.3         1.9     0.014     0.097    0.160   \n",
      "\n",
      "      ts_pct  ast_pct  season_no  total_season  \n",
      "0      0.541    0.102          1             3  \n",
      "1      0.524    0.103          2             3  \n",
      "2      0.462    0.063          3             3  \n",
      "3      0.539    0.141          1             4  \n",
      "4      0.563    0.143          2             4  \n",
      "...      ...      ...        ...           ...  \n",
      "8680   0.534    0.067          2             3  \n",
      "8681   0.546    0.085          3             3  \n",
      "8682   0.589    0.069          1             3  \n",
      "8683   0.602    0.071          2             3  \n",
      "8684   0.594    0.090          3             3  \n",
      "\n",
      "[8685 rows x 14 columns]\n"
     ]
    }
   ],
   "source": [
    "# get the every unique player according to name,weight and height\n",
    "unique_values_player = df[[\"player_name\",\"player_height\",\"player_weight\"]].drop_duplicates()\n",
    "unique_values_player = unique_values_player.reset_index(drop=True)\n",
    "unique_values_player.reset_index(inplace=True)\n",
    "unique_values_player.rename(columns={\"index\":\"ID\"},inplace=True)\n",
    "# connect the dataframe by the player\n",
    "merged_df = pd.merge(unique_values_player, df, on=[\"player_name\",\"player_height\",\"player_weight\"])\n",
    "merged_df.drop(columns=[\"player_name\",\"player_height\",\"player_weight\",\"draft_year\",\"draft_round\",\"draft_number\"], inplace=True)\n",
    "merged_df.drop(columns=[\"team_abbreviation\",\"college\",\"country\"],inplace=True)\n",
    "filtered_df = merged_df.groupby('ID').filter(lambda x:len(x)>=3)\n",
    "filtered_df.sort_values(by=[\"ID\",\"season\"],ascending=[True,True])\n",
    "filtered_df.drop(columns=[\"season\"],inplace=True)\n",
    "filtered_df[\"season_no\"] = filtered_df.groupby(\"ID\").cumcount()+1\n",
    "filtered_df[\"total_season\"] = filtered_df.groupby(\"ID\")[\"ID\"].transform(\"count\")\n",
    "dataset = filtered_df.reset_index(drop=True)\n",
    "print(dataset)\n",
    "\n"
   ]
  },
  {
   "cell_type": "code",
   "execution_count": 134,
   "id": "2fb851c7",
   "metadata": {
    "pycharm": {
     "name": "#%%\n"
    }
   },
   "outputs": [
    {
     "name": "stdout",
     "output_type": "stream",
     "text": [
      "[1687 2935 2063 ... 3424 1235 2362]\n"
     ]
    }
   ],
   "source": [
    "train_ratio = 0.8\n",
    "test_ratio = 1-train_ratio\n",
    "data_id = dataset[[\"ID\"]].drop_duplicates().values.flatten()\n",
    "n = len(data_id)\n",
    "np.random.shuffle(data_id)\n",
    "train_id = data_id[n*train_ratio]"
   ]
  },
  {
   "cell_type": "code",
   "execution_count": 328,
   "id": "ff77ad18",
   "metadata": {
    "scrolled": false,
    "pycharm": {
     "name": "#%%\n"
    }
   },
   "outputs": [],
   "source": [
    "def data_augmentation(data,subset_rows=5):\n",
    "    subblocks = []\n",
    "    cnt = 0\n",
    "    subset_rows = 5\n",
    "    for attribute,group in dataset.groupby(\"ID\"):\n",
    "        len_group = len(group)\n",
    "        group = group.reset_index(drop=True)\n",
    "        if len_group > subset_rows:\n",
    "            for i in range(len_group-subset_rows+1):\n",
    "                subgroup = group.loc[i:i+subset_rows-1].copy()\n",
    "                subgroup[\"block_id\"] = cnt\n",
    "                subblocks.append(subgroup)\n",
    "                cnt += 1\n",
    "        else:       \n",
    "            group[\"block_id\"] = cnt\n",
    "            subblocks.append(group)\n",
    "            cnt += 1\n",
    "    augmented_data = pd.concat(subblocks).reset_index(drop=True)\n",
    "    return augmented_data\n",
    "augmented_data = data_augmentation(dataset,5)\n",
    "\n",
    "def splite_data(augmented_data,column):\n",
    "    train_ratio = 0.8\n",
    "    test_ratio = 1-train_ratio\n",
    "    data_id = augmented_data[[column]].drop_duplicates().values.flatten()\n",
    "    n = len(data_id)\n",
    "    np.random.shuffle(data_id)\n",
    "    train_ids = data_id[0:int(n*train_ratio)]\n",
    "    test_ids = data_id[int(n*train_ratio):]\n",
    "    train_set = [augmented_data[augmented_data[column] == train_id] for train_id in train_ids]\n",
    "    train_set = pd.concat(train_set)\n",
    "    test_set = [augmented_data[augmented_data[column] == test_id] for test_id in test_ids]\n",
    "    test_set = pd.concat(test_set)\n",
    "    train_set.to_csv(f'./dataset/trainset_{column}.csv', index=False)\n",
    "    test_set.to_csv(f'./dataset/testset_{column}.csv', index=False)\n",
    "splite_data(augmented_data,\"block_id\")\n",
    "splite_data(dataset,\"ID\")"
   ]
  },
  {
   "cell_type": "code",
   "execution_count": 301,
   "id": "93b22cdd",
   "metadata": {
    "pycharm": {
     "name": "#%%\n"
    }
   },
   "outputs": [],
   "source": [
    "train_set.to_csv('./dataset/trainset.csv', index=False)\n",
    "test_set.to_csv('./dataset/testset.csv', index=False)"
   ]
  },
  {
   "cell_type": "code",
   "execution_count": 192,
   "id": "1f52c961",
   "metadata": {
    "pycharm": {
     "name": "#%%\n"
    }
   },
   "outputs": [
    {
     "name": "stdout",
     "output_type": "stream",
     "text": [
      "        ID player_name  player_height  player_weight\n",
      "1935  1935    CJ Miles         198.12       99.79024\n"
     ]
    }
   ],
   "source": [
    "print(unique_values_player[unique_values_player['ID'] == 1935])"
   ]
  },
  {
   "cell_type": "code",
   "execution_count": 329,
   "id": "462c6798",
   "metadata": {
    "scrolled": false,
    "pycharm": {
     "name": "#%%\n"
    }
   },
   "outputs": [],
   "source": [
    "column = \"block_id\"\n",
    "# train_data = pd.read_csv(\"./player_data_train.csv\",index_col=False)\n",
    "# test_data = pd.read_csv(\"./player_data_test.csv\",index_col=False)\n",
    "# train_data = pd.read_csv(\"./dataset/trainset_ID.csv\",index_col=False)\n",
    "# test_data = pd.read_csv(\"./dataset/testset_ID.csv\",index_col=False)\n",
    "train_data = pd.read_csv(f\"./dataset/trainset_{column}.csv\",index_col=False)\n",
    "test_data = pd.read_csv(f\"./dataset/testset_{column}.csv\",index_col=False)\n",
    "def get_X(df):\n",
    "    return pd.DataFrame(df[0:-1])\n",
    "def get_y(df):\n",
    "    return pd.DataFrame(df[len(df)-1:len(df)])\n",
    "X_train = train_data.groupby(column).apply(lambda x:get_X(x)).reset_index(drop=True)\n",
    "y_train = train_data.groupby(column).apply(lambda x:get_y(x)).reset_index(drop=True)\n",
    "X_test = test_data.groupby(column).apply(lambda x:get_X(x)).reset_index(drop=True)\n",
    "y_test = test_data.groupby(column).apply(lambda x:get_y(x)).reset_index(drop=True)\n",
    "\n",
    "def build_features(df):\n",
    "    age = df.age.values[-1]\n",
    "    gp_mean = np.mean(df.gp.values)\n",
    "    pts_mean = np.mean(df.pts.values)\n",
    "    pts_last1year= df.pts.values[-1]\n",
    "    pts_last2year = df.pts.values[-2]\n",
    "    net_mean = np.mean(df.net_rating.values)\n",
    "    ts_mean = np.mean(df.ts_pct.values)\n",
    "    usg_mean = np.mean(df.usg_pct.values)\n",
    "    n_season = df['season_no'].values[-1]\n",
    "    data = np.array([[age, gp_mean, pts_mean, pts_last1year, pts_last2year, net_mean,ts_mean, usg_mean, n_season]])\n",
    "    return pd.DataFrame(data)\n",
    "\n",
    "\n",
    "df_feature_train = X_train.sort_values([column],ascending=[True]).groupby(column).apply(lambda x: build_features(x))\n",
    "x_feature_train = df_feature_train.values\n",
    "labels_train = y_train.sort_values([column],ascending=[True]).pts.values\n",
    "\n",
    "df_feature_test = X_test.sort_values([column],ascending=[True]).groupby(column).apply(lambda x: build_features(x))\n",
    "x_feature_test = df_feature_test.values\n",
    "labels_test = y_test.sort_values([column],ascending=[True]).pts.values\n",
    "\n",
    "\n"
   ]
  },
  {
   "cell_type": "code",
   "execution_count": 330,
   "id": "a71c2a7f",
   "metadata": {
    "pycharm": {
     "name": "#%%\n"
    }
   },
   "outputs": [
    {
     "name": "stdout",
     "output_type": "stream",
     "text": [
      "10.097518989144522\n"
     ]
    }
   ],
   "source": [
    "from sklearn.linear_model import LinearRegression\n",
    "from sklearn.metrics import mean_squared_error\n",
    "from sklearn.preprocessing import StandardScaler\n",
    "scaler = StandardScaler()\n",
    "scaler.fit(x_feature_train)\n",
    "x_feature_train = scaler.transform(x_feature_train)\n",
    "x_feature_test = scaler.transform(x_feature_test)\n",
    "lr = LinearRegression()\n",
    "lr.fit(x_feature_train, labels_train)\n",
    "\n",
    "y_pred = lr.predict(x_feature_test)\n",
    "\n",
    "\n",
    "mse = mean_squared_error(labels_test, y_pred)\n",
    "print(mse)"
   ]
  },
  {
   "cell_type": "code",
   "execution_count": 336,
   "id": "f5aac77e",
   "metadata": {
    "pycharm": {
     "name": "#%%\n"
    }
   },
   "outputs": [
    {
     "name": "stdout",
     "output_type": "stream",
     "text": [
      "9.364783517390666\n"
     ]
    }
   ],
   "source": [
    "\n",
    "from sklearn.svm import SVR\n",
    "svr = SVR(kernel='rbf',C=100,gamma=0.01,epsilon=0.2)\n",
    "\n",
    "svr.fit(x_feature_train, labels_train)\n",
    "\n",
    "y_pred = svr.predict(x_feature_test)\n",
    "\n",
    "mse = mean_squared_error(labels_test, y_pred)\n",
    "print(mse)"
   ]
  }
 ],
 "metadata": {
  "kernelspec": {
   "display_name": "Python 3 (ipykernel)",
   "language": "python",
   "name": "python3"
  },
  "language_info": {
   "codemirror_mode": {
    "name": "ipython",
    "version": 3
   },
   "file_extension": ".py",
   "mimetype": "text/x-python",
   "name": "python",
   "nbconvert_exporter": "python",
   "pygments_lexer": "ipython3",
   "version": "3.9.15"
  }
 },
 "nbformat": 4,
 "nbformat_minor": 5
}